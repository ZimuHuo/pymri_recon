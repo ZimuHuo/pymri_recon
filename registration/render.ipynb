{
 "cells": [
  {
   "cell_type": "code",
   "execution_count": 1,
   "id": "d50b6183",
   "metadata": {},
   "outputs": [],
   "source": [
    "import SimpleITK as sitk\n",
    "import os\n",
    "import pydicom as dcm\n",
    "import numpy as np\n",
    "import matplotlib.pyplot as plt\n",
    "from ipywidgets import interact, interactive, fixed, interact_manual\n",
    "import ipywidgets as widgets\n",
    "from IPython.display import clear_output\n",
    "from pathlib import Path"
   ]
  },
  {
   "cell_type": "code",
   "execution_count": 2,
   "id": "b95c4010",
   "metadata": {},
   "outputs": [],
   "source": [
    "filePath = \"../lib/resource/data/T2mapping/spoil30\"\n",
    "data = Path(filePath)\n",
    "dirs = list(data.glob('**/*.IMA'))\n",
    "dirs = np.sort(dirs)\n",
    "file0 = dcm.read_file(dirs[0])\n",
    "f = file0.pixel_array\n",
    "[height, width] = f.shape\n",
    "N = len(dirs)\n",
    "del file0\n",
    "del f\n",
    "images = np.zeros([height, width, N])\n",
    "for index, f in enumerate(dirs):\n",
    "    image = dcm.read_file(f).pixel_array\n",
    "    images[:, :, index] = image"
   ]
  },
  {
   "cell_type": "code",
   "execution_count": 3,
   "id": "6a7d79bd",
   "metadata": {},
   "outputs": [],
   "source": [
    "im = sitk.GetImageFromArray(images)"
   ]
  },
  {
   "cell_type": "code",
   "execution_count": 5,
   "id": "8ad7f9ee",
   "metadata": {},
   "outputs": [
    {
     "ename": "ModuleNotFoundError",
     "evalue": "No module named 'itkwidgets'",
     "output_type": "error",
     "traceback": [
      "\u001b[0;31m---------------------------------------------------------------------------\u001b[0m",
      "\u001b[0;31mModuleNotFoundError\u001b[0m                       Traceback (most recent call last)",
      "Input \u001b[0;32mIn [5]\u001b[0m, in \u001b[0;36m<cell line: 1>\u001b[0;34m()\u001b[0m\n\u001b[0;32m----> 1\u001b[0m \u001b[38;5;28;01mfrom\u001b[39;00m \u001b[38;5;21;01mitkwidgets\u001b[39;00m \u001b[38;5;28;01mimport\u001b[39;00m view\n\u001b[1;32m      2\u001b[0m view(im, rotate\u001b[38;5;241m=\u001b[39m\u001b[38;5;28;01mTrue\u001b[39;00m, axes\u001b[38;5;241m=\u001b[39m\u001b[38;5;28;01mTrue\u001b[39;00m, vmin\u001b[38;5;241m=\u001b[39m\u001b[38;5;241m4000\u001b[39m, vmax\u001b[38;5;241m=\u001b[39m\u001b[38;5;241m17000\u001b[39m, gradient_opacity\u001b[38;5;241m=\u001b[39m\u001b[38;5;241m0.9\u001b[39m)\n",
      "\u001b[0;31mModuleNotFoundError\u001b[0m: No module named 'itkwidgets'"
     ]
    }
   ],
   "source": [
    "from itkwidgets import view\n",
    "view(im, rotate=True, axes=True, vmin=4000, vmax=17000, gradient_opacity=0.9)"
   ]
  },
  {
   "cell_type": "code",
   "execution_count": null,
   "id": "981256ef",
   "metadata": {},
   "outputs": [],
   "source": []
  }
 ],
 "metadata": {
  "kernelspec": {
   "display_name": "Python 3 (ipykernel)",
   "language": "python",
   "name": "python3"
  },
  "language_info": {
   "codemirror_mode": {
    "name": "ipython",
    "version": 3
   },
   "file_extension": ".py",
   "mimetype": "text/x-python",
   "name": "python",
   "nbconvert_exporter": "python",
   "pygments_lexer": "ipython3",
   "version": "3.9.12"
  },
  "toc": {
   "base_numbering": 1,
   "nav_menu": {},
   "number_sections": true,
   "sideBar": true,
   "skip_h1_title": false,
   "title_cell": "Table of Contents",
   "title_sidebar": "Contents",
   "toc_cell": false,
   "toc_position": {},
   "toc_section_display": true,
   "toc_window_display": false
  },
  "varInspector": {
   "cols": {
    "lenName": 16,
    "lenType": 16,
    "lenVar": 40
   },
   "kernels_config": {
    "python": {
     "delete_cmd_postfix": "",
     "delete_cmd_prefix": "del ",
     "library": "var_list.py",
     "varRefreshCmd": "print(var_dic_list())"
    },
    "r": {
     "delete_cmd_postfix": ") ",
     "delete_cmd_prefix": "rm(",
     "library": "var_list.r",
     "varRefreshCmd": "cat(var_dic_list()) "
    }
   },
   "types_to_exclude": [
    "module",
    "function",
    "builtin_function_or_method",
    "instance",
    "_Feature"
   ],
   "window_display": false
  }
 },
 "nbformat": 4,
 "nbformat_minor": 5
}

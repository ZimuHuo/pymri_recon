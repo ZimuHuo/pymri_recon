{
 "cells": [
  {
   "cell_type": "code",
   "execution_count": 1,
   "id": "973501be-6cbe-4d49-ac1b-85f3858b2cb7",
   "metadata": {},
   "outputs": [
    {
     "name": "stdout",
     "output_type": "stream",
     "text": [
      "220607-12:51:36,863 nipype.utils WARNING:\n",
      "\t A newer version (1.8.1) of nipy/nipype is available. You are using 1.7.0\n"
     ]
    }
   ],
   "source": [
    "import SimpleITK as sitk\n",
    "import os\n",
    "import dosma as dm\n",
    "import numpy as np\n",
    "from dosma import preferences\n",
    "from dosma.scan_sequences import QDess, CubeQuant, Cones\n",
    "from dosma.tissues import FemoralCartilage\n",
    "import matplotlib.pyplot as plt\n",
    "from ipywidgets import interact, interactive, fixed, interact_manual\n",
    "import ipywidgets as widgets\n",
    "from IPython.display import clear_output"
   ]
  },
  {
   "cell_type": "code",
   "execution_count": 2,
   "id": "44e9ca9c-f355-4f9f-b206-14b97288f85c",
   "metadata": {},
   "outputs": [
    {
     "data": {
      "application/vnd.jupyter.widget-view+json": {
       "model_id": "49784c6aded2406582de526032292150",
       "version_major": 2,
       "version_minor": 0
      },
      "text/plain": [
       "  0%|          | 0/160 [00:00<?, ?it/s]"
      ]
     },
     "metadata": {},
     "output_type": "display_data"
    },
    {
     "name": "stderr",
     "output_type": "stream",
     "text": [
      "/Users/huozimu/opt/anaconda3/lib/python3.9/site-packages/dosma/scan_sequences/mri/qdess.py:217: RuntimeWarning: divide by zero encountered in true_divide\n",
      "  ratio = mask * echo_2 / echo_1\n",
      "/Users/huozimu/opt/anaconda3/lib/python3.9/site-packages/dosma/scan_sequences/mri/qdess.py:217: RuntimeWarning: invalid value encountered in true_divide\n",
      "  ratio = mask * echo_2 / echo_1\n",
      "/Users/huozimu/opt/anaconda3/lib/python3.9/site-packages/dosma/scan_sequences/mri/qdess.py:221: RuntimeWarning: overflow encountered in true_divide\n",
      "  t2map = -2000 * (TR - TE) / (xp.log(abs(ratio) / k) + c1)\n",
      "/Users/huozimu/opt/anaconda3/lib/python3.9/site-packages/dosma/scan_sequences/mri/qdess.py:221: RuntimeWarning: divide by zero encountered in log\n",
      "  t2map = -2000 * (TR - TE) / (xp.log(abs(ratio) / k) + c1)\n"
     ]
    }
   ],
   "source": [
    "fc = FemoralCartilage()\n",
    "\n",
    "# Perform analyticial voxelwise T2 measurement for femoral cartilage\n",
    "# while suppressing fat and fluid regions for higher SNR.\n",
    "qdess = QDess.from_dicom(\"../lib/resource/data/qdess\", verbose=True)\n",
    "\n",
    "t2map = qdess.generate_t2_map(fc, suppress_fat=True, suppress_fluid=True)\n",
    "\n",
    "# Clip the estimated T2 values between [0, 80]\n",
    "t2map.volumetric_map = np.clip(t2map.volumetric_map, 0, 80)"
   ]
  },
  {
   "cell_type": "code",
   "execution_count": null,
   "id": "72035ad5-e864-4a60-a4a2-95d74e36971b",
   "metadata": {},
   "outputs": [],
   "source": []
  },
  {
   "cell_type": "code",
   "execution_count": 3,
   "id": "9b7d64df-d935-4530-b6e3-dfd71915863d",
   "metadata": {},
   "outputs": [
    {
     "data": {
      "application/vnd.jupyter.widget-view+json": {
       "model_id": "1597df7921814cfd9f78ea0b2ea93cca",
       "version_major": 2,
       "version_minor": 0
      },
      "text/plain": [
       "  0%|          | 0/288 [00:00<?, ?it/s]"
      ]
     },
     "metadata": {},
     "output_type": "display_data"
    }
   ],
   "source": [
    "cq = CubeQuant.from_dicom(\"../lib/resource/data/cubequant\", verbose=True, num_workers=4)"
   ]
  },
  {
   "cell_type": "code",
   "execution_count": 4,
   "id": "9fa7b274-5c8b-406c-928c-520b65ac30b2",
   "metadata": {},
   "outputs": [],
   "source": [
    "def elastic(target, moving):\n",
    "    target = target.astype(np.float64)\n",
    "    moving = moving.astype(np.float64)\n",
    "    fixed_image = sitk.GetImageFromArray(target)\n",
    "    moving_image = sitk.GetImageFromArray(moving)\n",
    "    initial_transform = sitk.CenteredTransformInitializer(\n",
    "        fixed_image,\n",
    "        moving_image,\n",
    "        sitk.Euler3DTransform(),\n",
    "        sitk.CenteredTransformInitializerFilter.GEOMETRY,\n",
    "    )\n",
    "    moving_resampled = sitk.Resample(\n",
    "        moving_image,\n",
    "        fixed_image,\n",
    "        initial_transform,\n",
    "        sitk.sitkLinear,\n",
    "        0.0,\n",
    "        moving_image.GetPixelID(),\n",
    "    )\n",
    "    registration_method = sitk.ImageRegistrationMethod()\n",
    "\n",
    "    # Similarity metric settings.\n",
    "    registration_method.SetMetricAsMattesMutualInformation(numberOfHistogramBins=50)\n",
    "    registration_method.SetMetricSamplingStrategy(registration_method.RANDOM)\n",
    "    registration_method.SetMetricSamplingPercentage(0.01)\n",
    "\n",
    "    registration_method.SetInterpolator(sitk.sitkLinear)\n",
    "\n",
    "    # Optimizer settings.\n",
    "    registration_method.SetOptimizerAsGradientDescent(\n",
    "        learningRate=1.0,\n",
    "        numberOfIterations=100,\n",
    "        convergenceMinimumValue=1e-6,\n",
    "        convergenceWindowSize=10,\n",
    "    )\n",
    "    registration_method.SetOptimizerScalesFromPhysicalShift()\n",
    "\n",
    "    # Setup for the multi-resolution framework.\n",
    "    registration_method.SetShrinkFactorsPerLevel(shrinkFactors=[4, 2, 1])\n",
    "    registration_method.SetSmoothingSigmasPerLevel(smoothingSigmas=[2, 1, 0])\n",
    "    registration_method.SmoothingSigmasAreSpecifiedInPhysicalUnitsOn()\n",
    "\n",
    "    # Don't optimize in-place, we would possibly like to run this cell multiple times.\n",
    "    registration_method.SetInitialTransform(initial_transform, inPlace=False)\n",
    "\n",
    "    final_transform = registration_method.Execute(\n",
    "        sitk.Cast(fixed_image, sitk.sitkFloat32), sitk.Cast(moving_image, sitk.sitkFloat32)\n",
    "    )\n",
    "    moving_resampled = sitk.Resample(\n",
    "        moving_image,\n",
    "        fixed_image,\n",
    "        final_transform,\n",
    "        sitk.sitkLinear,\n",
    "        0.0,\n",
    "        moving_image.GetPixelID(),\n",
    "    )\n",
    "    targ = sitk.GetArrayViewFromImage(fixed_image)\n",
    "    ref = sitk.GetArrayFromImage(moving_resampled)\n",
    "    return targ.astype(np.float64), ref.astype(np.float64)"
   ]
  },
  {
   "cell_type": "code",
   "execution_count": 5,
   "id": "2c904efc-d07f-4f50-b457-3de89b347d39",
   "metadata": {},
   "outputs": [],
   "source": [
    "im1 = t2map.volumetric_map.A\n",
    "im2 = cq.volumes[0].A"
   ]
  },
  {
   "cell_type": "code",
   "execution_count": 6,
   "id": "1bc9c065-77cc-4d61-984f-48f9f36f4a30",
   "metadata": {},
   "outputs": [],
   "source": [
    "t1, t2 = elastic(im1, im2)"
   ]
  },
  {
   "cell_type": "code",
   "execution_count": 8,
   "id": "7d271d4a-886f-4718-99ea-ed1b37ac06ad",
   "metadata": {},
   "outputs": [
    {
     "data": {
      "application/vnd.jupyter.widget-view+json": {
       "model_id": "1804347a636f4e5ba077e05c33bfa2cc",
       "version_major": 2,
       "version_minor": 0
      },
      "text/plain": [
       "interactive(children=(FloatSlider(value=10.0, description='ramp', max=80.0, step=1.0), Output()), _dom_classes…"
      ]
     },
     "metadata": {},
     "output_type": "display_data"
    },
    {
     "data": {
      "text/plain": [
       "<function __main__.show(ramp)>"
      ]
     },
     "execution_count": 8,
     "metadata": {},
     "output_type": "execute_result"
    }
   ],
   "source": [
    "def show(ramp):\n",
    "    _, ax = plt.subplots(1,1, figsize=(5,5))\n",
    "    plt.imshow(im1[...,int(ramp)], cmap=\"gray\")\n",
    "    plt.imshow(im2[...,int(ramp)], cmap=\"inferno\", alpha=0.5, interpolation=\"bilinear\")\n",
    "\n",
    "interact(show, ramp = widgets.FloatSlider(value=10,\n",
    "                                               min=0,\n",
    "                                               max=80,\n",
    "                                               step=1))"
   ]
  },
  {
   "cell_type": "code",
   "execution_count": null,
   "id": "8d59729c-6183-47f9-b5d2-104d45049e73",
   "metadata": {},
   "outputs": [],
   "source": []
  }
 ],
 "metadata": {
  "kernelspec": {
   "display_name": "Python 3 (ipykernel)",
   "language": "python",
   "name": "python3"
  },
  "language_info": {
   "codemirror_mode": {
    "name": "ipython",
    "version": 3
   },
   "file_extension": ".py",
   "mimetype": "text/x-python",
   "name": "python",
   "nbconvert_exporter": "python",
   "pygments_lexer": "ipython3",
   "version": "3.9.12"
  }
 },
 "nbformat": 4,
 "nbformat_minor": 5
}

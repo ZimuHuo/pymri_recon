{
 "cells": [
  {
   "cell_type": "code",
   "execution_count": 1,
   "id": "6b9dcece-cd6d-4602-9c4c-2aa066418da7",
   "metadata": {},
   "outputs": [],
   "source": [
    "import numpy as np\n",
    "import scipy \n",
    "from scipy.linalg import block_diag\n",
    "import matplotlib.pyplot as plt\n",
    "import sys\n",
    "sys.path.insert(1, '../../')\n",
    "sys.path.insert(1, '../')\n",
    "from tqdm.notebook import tqdm\n",
    "from util.fft import * \n",
    "import scipy.io as io\n",
    "from tools import * \n",
    "import pydicom as dcm\n",
    "from pathlib import Path\n",
    "import pickle\n",
    "from glob import glob\n",
    "import os"
   ]
  },
  {
   "cell_type": "code",
   "execution_count": 2,
   "id": "dda5d218-402e-4a6c-a7b8-8e76caf334ab",
   "metadata": {
    "tags": []
   },
   "outputs": [],
   "source": [
    "# plt.figure(figsize = (24,18))\n",
    "# plt.imshow(stitch(np.concatenate([e1_H, e1_L, e2_H, e2_L],-1),12), cmap =\"gray\")\n",
    "# plt.show()"
   ]
  },
  {
   "cell_type": "code",
   "execution_count": 3,
   "id": "43df5ae5-bb65-4ef7-8864-547322295f9f",
   "metadata": {},
   "outputs": [],
   "source": [
    "filePath = \"../lib/resource/data/T2mapping/spoil30\"\n",
    "data = Path(filePath)\n",
    "dirs = list(data.glob('**/*.IMA'))\n",
    "dirs = sorted(dirs)\n",
    "file0 = dcm.read_file(dirs[0]) \n",
    "f = file0.pixel_array\n",
    "[height, width] = f.shape\n",
    "N = len(dirs)\n",
    "del file0\n",
    "del f\n",
    "\n",
    "images = np.zeros([height,width,N])\n",
    "for index,f in enumerate (dirs):\n",
    "    image = dcm.read_file(f).pixel_array\n",
    "    images[:,:,index] = image\n",
    "e1_H = np.zeros([height,width,int(N/2)])\n",
    "e1_L = np.zeros([height,width,int(N/2)])\n",
    "e1_H = images[:,:,0:int(N/2)]\n",
    "e1_L = images[:,:,int(N/2):] \n",
    "del images\n",
    "\n",
    "filePath = \"../lib/resource/data/T2mapping/spoil50\"\n",
    "data = Path(filePath)\n",
    "dirs = list(data.glob('**/*.IMA'))\n",
    "dirs = sorted(dirs)\n",
    "images = np.zeros([height,width,N])\n",
    "for index,f in enumerate (dirs):\n",
    "    image = dcm.read_file(f).pixel_array\n",
    "    images[:,:,index] = image\n",
    "e2_H = np.zeros([height,width,int(N/2)])\n",
    "e2_L = np.zeros([height,width,int(N/2)])\n",
    "e2_H = images[:,:,0:int(N/2)]\n",
    "e2_L = images[:,:,int(N/2):] \n",
    "del images"
   ]
  },
  {
   "cell_type": "code",
   "execution_count": 4,
   "id": "bbcc01ec-3e73-46e3-a07f-30cbc5bd2c11",
   "metadata": {},
   "outputs": [
    {
     "name": "stdout",
     "output_type": "stream",
     "text": [
      "0.0048 3000.0 62.5 0.0225 0.00631\n"
     ]
    }
   ],
   "source": [
    "filePath = \"../lib/resource/data/T2mapping/spoil30\"\n",
    "data = Path(filePath)\n",
    "dirs = list(data.glob('**/*.IMA'))\n",
    "dirs = np.sort(dirs)\n",
    "file1 = dcm.read_file(dirs[0]) \n",
    "Glarea1 = 30*1e2\n",
    "\n",
    "TR1 = file1.RepetitionTime*1e-3\n",
    "TE1 = file1.EchoTime*1e-3\n",
    "tau1 = 4.8e-3\n",
    "alpha1 = file1.FlipAngle\n",
    "G1 = Glarea1 /(tau1*1e6)*100\n",
    "print(tau1, Glarea1, G1, TR1, TE1)"
   ]
  },
  {
   "cell_type": "code",
   "execution_count": 5,
   "id": "0357d544-12c3-4c95-aca7-2327628eb6e4",
   "metadata": {},
   "outputs": [
    {
     "name": "stdout",
     "output_type": "stream",
     "text": [
      "0.0048 5000.0 104.16666666666667 0.0225 0.00631\n"
     ]
    }
   ],
   "source": [
    "filePath = \"../lib/resource/data/T2mapping/spoil50\"\n",
    "data = Path(filePath)\n",
    "dirs = list(data.glob('**/*.IMA'))\n",
    "dirs = np.sort(dirs)\n",
    "file2 = dcm.read_file(dirs[0]) \n",
    "Glarea2 = 50*1e2\n",
    "\n",
    "TR2 = file2.RepetitionTime*1e-3\n",
    "TE2 = file2.EchoTime*1e-3\n",
    "tau2 = 4.8e-3\n",
    "alpha2 = file2.FlipAngle\n",
    "G2 = Glarea2 /(tau2*1e6)*100\n",
    "print(tau2, Glarea2, G2, TR2, TE2)"
   ]
  },
  {
   "cell_type": "code",
   "execution_count": 6,
   "id": "ac017d45-cb64-495c-a9bc-178d37d025dd",
   "metadata": {},
   "outputs": [
    {
     "name": "stdout",
     "output_type": "stream",
     "text": [
      "0.0225 0.00631 0.0048 5000.0 3000.0 13\n"
     ]
    }
   ],
   "source": [
    "TR = TR1 \n",
    "TE = TE1 \n",
    "Tg = tau1\n",
    "GhArea = Glarea2\n",
    "GlArea = Glarea1\n",
    "Alpha_deg = alpha1\n",
    "Nstates = 6\n",
    "e1_H = e1_H\n",
    "e1_L = e1_L\n",
    "e2_H = e2_H\n",
    "e2_L = e2_L\n",
    "print(TR, TE, Tg, GhArea, GlArea, Alpha_deg)"
   ]
  },
  {
   "cell_type": "code",
   "execution_count": 7,
   "id": "1158e0d5-8998-4065-a915-8dba86800381",
   "metadata": {},
   "outputs": [],
   "source": [
    "def DESS2dFit(TR,TE,Tg,GhArea,GlArea, Alpha_deg,Nstates,e1_H,e2_H,e1_L,e2_L):\n",
    "    ny, nx, ns = e1_H.shape\n",
    "    adcFitBieri = np.zeros(e1_H.shape)\n",
    "    t2Fit2D = np.zeros(e1_H.shape)\n",
    "    adcFit2D = np.zeros(e1_H.shape)\n",
    "    for s in tqdm(range(ns)):\n",
    "        adcFitBieri[...,s],t2Fit2D[...,s],adcFit2D[...,s] = DESS2dFit_img(TR,TE,Tg,GhArea,GlArea, Alpha_deg,Nstates,e1_H[...,s],e2_H[...,s],e1_L[...,s],e2_L[...,s])\n",
    "    \n",
    "    return adcFitBieri,t2Fit2D,adcFit2D"
   ]
  },
  {
   "cell_type": "code",
   "execution_count": 8,
   "id": "644e38a1-2e6c-4a2d-9aa3-8157f6f55153",
   "metadata": {},
   "outputs": [
    {
     "data": {
      "application/vnd.jupyter.widget-view+json": {
       "model_id": "7e5aba73da304d2cbc98aefb1741e047",
       "version_major": 2,
       "version_minor": 0
      },
      "text/plain": [
       "  0%|          | 0/120 [00:00<?, ?it/s]"
      ]
     },
     "metadata": {},
     "output_type": "display_data"
    },
    {
     "name": "stderr",
     "output_type": "stream",
     "text": [
      "/Users/huozimu/Desktop/pymri_recon/qDess_ADC/tools.py:226: RuntimeWarning: invalid value encountered in true_divide\n",
      "  bMeasured = (e2_H*e1_L)/(e2_L*e1_H)\n",
      "/Users/huozimu/Desktop/pymri_recon/qDess_ADC/tools.py:227: RuntimeWarning: invalid value encountered in true_divide\n",
      "  r1Measured = np.abs(e2_H/e2_L)\n",
      "/Users/huozimu/Desktop/pymri_recon/qDess_ADC/tools.py:228: RuntimeWarning: invalid value encountered in true_divide\n",
      "  r2Measured = np.abs(e2_L/e1_L)\n"
     ]
    }
   ],
   "source": [
    "adcFitBieri,t2Fit2D,adcFit2D = DESS2dFit(TR,TE,Tg,GhArea,GlArea, Alpha_deg,Nstates,e1_H,e2_H,e1_L,e2_L)"
   ]
  },
  {
   "cell_type": "code",
   "execution_count": 11,
   "id": "de2729cb-d19f-4406-80b7-ea4ce0c6c663",
   "metadata": {},
   "outputs": [
    {
     "data": {
      "image/png": "[encoded data removed]",
      "text/plain": [
       "<Figure size 432x288 with 2 Axes>"
      ]
     },
     "metadata": {
      "needs_background": "light"
     },
     "output_type": "display_data"
    }
   ],
   "source": [
    "showc(adcFit2D[...,40])"
   ]
  },
  {
   "cell_type": "code",
   "execution_count": null,
   "id": "2cd27224-4ac5-4b0d-b3aa-c59b713d72f2",
   "metadata": {},
   "outputs": [],
   "source": []
  }
 ],
 "metadata": {
  "kernelspec": {
   "display_name": "Python 3 (ipykernel)",
   "language": "python",
   "name": "python3"
  },
  "language_info": {
   "codemirror_mode": {
    "name": "ipython",
    "version": 3
   },
   "file_extension": ".py",
   "mimetype": "text/x-python",
   "name": "python",
   "nbconvert_exporter": "python",
   "pygments_lexer": "ipython3",
   "version": "3.9.12"
  }
 },
 "nbformat": 4,
 "nbformat_minor": 5
}

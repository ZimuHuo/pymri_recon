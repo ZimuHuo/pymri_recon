{
 "cells": [
  {
   "cell_type": "code",
   "execution_count": 1,
   "id": "f87d24b4-7a6c-44b8-86ba-1b6c767d55d4",
   "metadata": {},
   "outputs": [],
   "source": [
    "import numpy as np\n",
    "import matplotlib.pyplot as plt\n",
    "import sys\n",
    "sys.path.insert(1, '../')\n",
    "sys.path.insert(1, '../../')\n",
    "from util.twix import *\n",
    "from util.fft import *\n",
    "from util.grappa import * \n",
    "from tqdm.notebook import tqdm"
   ]
  },
  {
   "cell_type": "code",
   "execution_count": 2,
   "id": "14c16b26-dc7b-4bbf-94a2-73ad9077235e",
   "metadata": {},
   "outputs": [
    {
     "name": "stdout",
     "output_type": "stream",
     "text": [
      "Software version: VD/VE (!?)\n",
      "\n",
      "Scan  0\n",
      "100 % parsed in 1 s. Estimated 0 s remaining.\n",
      "Scan  1\n",
      "100 % parsed in 6 s. Estimated 0 s remaining.\n",
      "----------------------------------------------------------------------------------------------------\n",
      "reading raw data, calculating trajectories and sampling raster \n"
     ]
    },
    {
     "data": {
      "application/vnd.jupyter.widget-view+json": {
       "model_id": "e9bb0a9cb86e4b79aef51bfa4d27e8b2",
       "version_major": 2,
       "version_minor": 0
      },
      "text/plain": [
       "  0%|          | 0/9685 [00:00<?, ?it/s]"
      ]
     },
     "metadata": {},
     "output_type": "display_data"
    },
    {
     "name": "stdout",
     "output_type": "stream",
     "text": [
      "----------------------------------------------------------------------------------------------------\n",
      "file parsed\n",
      "----------------------------------------------------------------------------------------------------\n",
      "loading and preprocessing the data..\n",
      "----------------------------------------------------------------------------------------------------\n",
      "dynamically combining data according to dtype, sli, par, rep..\n"
     ]
    },
    {
     "data": {
      "application/vnd.jupyter.widget-view+json": {
       "model_id": "2ef2d15ba87a4c52b06772dd5e08df6c",
       "version_major": 2,
       "version_minor": 0
      },
      "text/plain": [
       "  0%|          | 0/66 [00:00<?, ?it/s]"
      ]
     },
     "metadata": {},
     "output_type": "display_data"
    },
    {
     "name": "stdout",
     "output_type": "stream",
     "text": [
      "----------------------------------------------------------------------------------------------------\n",
      "finished, the output is stored in a list format and each element of the list is a dictionary.\n",
      "To access the data, use file[idx][\"readout\"] or file[idx][\"flags\"]\n",
      "                                                                                                    \n",
      "idx  file type\n",
      "0   NOISE\n",
      "1   PAT_ACS\n",
      "2   DATA\n"
     ]
    }
   ],
   "source": [
    "file_sms = \"../lib/resource/XA31A/meas_MID00073_FID08595_tse_64av_grappa2.dat\"\n",
    "file = readtwix(file_sms, prewhitening=False)\n",
    "FIGSIZE = (10,6)"
   ]
  },
  {
   "cell_type": "code",
   "execution_count": 3,
   "id": "2ccf8e0e-403c-493a-8ab3-d3944ef92b86",
   "metadata": {},
   "outputs": [],
   "source": [
    "noise = file[0]['readouts']\n",
    "acs = file[1]['readouts']\n",
    "acs = process_reference(acs)\n",
    "data = file[2]['readouts'][...,0]"
   ]
  },
  {
   "cell_type": "code",
   "execution_count": 4,
   "id": "798b78ac-e207-4a19-ba3f-56f31e46f327",
   "metadata": {},
   "outputs": [
    {
     "name": "stdout",
     "output_type": "stream",
     "text": [
      "(64, 64, 34) (179, 176, 34)\n"
     ]
    }
   ],
   "source": [
    "print(acs.shape, data.shape)\n",
    "[ny, nx, nc] = data.shape"
   ]
  },
  {
   "cell_type": "code",
   "execution_count": 5,
   "id": "85442813-94f4-4c66-b4b3-bf0ea1e133bf",
   "metadata": {},
   "outputs": [],
   "source": [
    "recon = grappa(data, acs)"
   ]
  },
  {
   "cell_type": "code",
   "execution_count": 7,
   "id": "e1120e84-a8f7-4477-9b1b-efd5eaf90149",
   "metadata": {},
   "outputs": [
    {
     "data": {
      "image/png": "[encoded data removed]",
      "text/plain": [
       "<Figure size 432x288 with 1 Axes>"
      ]
     },
     "metadata": {
      "needs_background": "light"
     },
     "output_type": "display_data"
    }
   ],
   "source": [
    "show(recon)"
   ]
  },
  {
   "cell_type": "code",
   "execution_count": null,
   "id": "aeab8b73-89af-46ee-baf7-baace3e3fae3",
   "metadata": {},
   "outputs": [],
   "source": []
  }
 ],
 "metadata": {
  "kernelspec": {
   "display_name": "Python 3 (ipykernel)",
   "language": "python",
   "name": "python3"
  },
  "language_info": {
   "codemirror_mode": {
    "name": "ipython",
    "version": 3
   },
   "file_extension": ".py",
   "mimetype": "text/x-python",
   "name": "python",
   "nbconvert_exporter": "python",
   "pygments_lexer": "ipython3",
   "version": "3.10.4"
  }
 },
 "nbformat": 4,
 "nbformat_minor": 5
}

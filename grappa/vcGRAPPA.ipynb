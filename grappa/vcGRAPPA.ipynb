{
 "cells": [
  {
   "cell_type": "markdown",
   "id": "15281e03-a0db-4e2e-a8be-8f5753a7a422",
   "metadata": {},
   "source": [
    "## vcGRAPPA reconstruction \n",
    "###### Author: Zimu Huo\n",
    "###### Date: 05.2022\n",
    "\n",
    "\n",
    "-------------------------------------------------------------------------\n",
    "References\n",
    "    \n",
    "    [1] \n",
    "    Author: Mark A. Griswold et al. \n",
    "    Title: Virtual Coil Concept for Improved Parallel MRIEmploying Conjugate Symmetric Signals\n",
    "    Link: https://onlinelibrary.wiley.com/doi/epdf/10.1002/mrm.21652\n",
    "    "
   ]
  },
  {
   "cell_type": "code",
   "execution_count": 1,
   "id": "88298e21-6393-482f-ad3a-1f718f565854",
   "metadata": {},
   "outputs": [],
   "source": [
    "import sys\n",
    "sys.path.insert(1, '../')\n",
    "import numpy as np\n",
    "import matplotlib.pyplot as plt\n",
    "from util.coil import *\n",
    "from util.fft import *\n",
    "import util.simulator as simulate\n",
    "import util.phantom as phantom\n",
    "from util.vc_grappa import * \n",
    "from util.twix import *"
   ]
  },
  {
   "cell_type": "code",
   "execution_count": 2,
   "id": "453a5fcc-a518-49ab-bab7-ccff3be4956b",
   "metadata": {},
   "outputs": [
    {
     "name": "stdout",
     "output_type": "stream",
     "text": [
      "Software version: VD/VE (!?)\n",
      "\n",
      "Scan  0\n",
      "100 % parsed in 1 s. Estimated 0 s remaining.\n",
      "Scan  1\n",
      "100 % parsed in 1 s. Estimated 0 s remaining.\n",
      "----------------------------------------------------------------------------------------------------\n",
      "reading raw data, calculating trajectories and sampling raster \n"
     ]
    },
    {
     "data": {
      "application/vnd.jupyter.widget-view+json": {
       "model_id": "c92bb9cfb840454bb00f34df82628ae8",
       "version_major": 2,
       "version_minor": 0
      },
      "text/plain": [
       "  0%|          | 0/1063 [00:00<?, ?it/s]"
      ]
     },
     "metadata": {},
     "output_type": "display_data"
    },
    {
     "name": "stdout",
     "output_type": "stream",
     "text": [
      "----------------------------------------------------------------------------------------------------\n",
      "file parsed\n",
      "----------------------------------------------------------------------------------------------------\n",
      "loading and preprocessing the data..\n",
      "----------------------------------------------------------------------------------------------------\n",
      "dynamically combining data according to dtype, sli, par, rep..\n"
     ]
    },
    {
     "data": {
      "application/vnd.jupyter.widget-view+json": {
       "model_id": "3ff4587994ad43c1b5aa562fb5a2d19c",
       "version_major": 2,
       "version_minor": 0
      },
      "text/plain": [
       "  0%|          | 0/4 [00:00<?, ?it/s]"
      ]
     },
     "metadata": {},
     "output_type": "display_data"
    },
    {
     "name": "stdout",
     "output_type": "stream",
     "text": [
      "----------------------------------------------------------------------------------------------------\n",
      "finished, the output is stored in a list format and each element of the list is a dictionary.\n",
      "To access the data, use file[idx][\"readout\"] or file[idx][\"flags\"]\n",
      "                                                                                                    \n",
      "idx  file type\n",
      "0   DATA\n"
     ]
    }
   ],
   "source": [
    "indSlice = np.asarray([2], dtype = int)\n",
    "numSlice = len(indSlice)\n",
    "R = 4\n",
    "file_sms = \"../lib/meas_MID00134_FID55501_catesain_4slices.dat\"\n",
    "file = readtwix(file_sms)"
   ]
  },
  {
   "cell_type": "code",
   "execution_count": 3,
   "id": "42f89b0b-a39d-4665-87f0-95b7a80b413d",
   "metadata": {},
   "outputs": [],
   "source": [
    "data = file[0]['readouts'][...,0]\n",
    "data = data[...,::4]\n",
    "acs = simulate.acs(data, (32, 32))\n",
    "dataR = data[::R]"
   ]
  },
  {
   "cell_type": "code",
   "execution_count": 4,
   "id": "b1ed62bd-d4c8-4fff-89be-9019cd7cb02c",
   "metadata": {},
   "outputs": [],
   "source": [
    "calib = simulate.acs(data,(32,32))\n",
    "kspace = dataR"
   ]
  },
  {
   "cell_type": "code",
   "execution_count": 5,
   "id": "450a7a36-ffa9-4982-9039-9821090739e0",
   "metadata": {},
   "outputs": [],
   "source": [
    "recon2 = grappa(kspace, calib, R)"
   ]
  },
  {
   "cell_type": "code",
   "execution_count": 6,
   "id": "8ca41bce-1388-49f4-b19f-d5365144f12e",
   "metadata": {},
   "outputs": [],
   "source": [
    "recon = vc_grappa(kspace, calib, R)"
   ]
  },
  {
   "cell_type": "code",
   "execution_count": 7,
   "id": "c794822c-df98-4120-9a51-cdb415983d98",
   "metadata": {},
   "outputs": [
    {
     "ename": "TypeError",
     "evalue": "bad operand type for abs(): 'NoneType'",
     "output_type": "error",
     "traceback": [
      "\u001b[0;31m---------------------------------------------------------------------------\u001b[0m",
      "\u001b[0;31mTypeError\u001b[0m                                 Traceback (most recent call last)",
      "Input \u001b[0;32mIn [7]\u001b[0m, in \u001b[0;36m<cell line: 4>\u001b[0;34m()\u001b[0m\n\u001b[1;32m      2\u001b[0m plt\u001b[38;5;241m.\u001b[39msubplot(\u001b[38;5;241m121\u001b[39m)\n\u001b[1;32m      3\u001b[0m plt\u001b[38;5;241m.\u001b[39maxis(\u001b[38;5;124m'\u001b[39m\u001b[38;5;124moff\u001b[39m\u001b[38;5;124m'\u001b[39m)\n\u001b[0;32m----> 4\u001b[0m plt\u001b[38;5;241m.\u001b[39mimshow(np\u001b[38;5;241m.\u001b[39mabs(\u001b[43mrsos\u001b[49m\u001b[43m(\u001b[49m\u001b[43mrecon2\u001b[49m\u001b[43m)\u001b[49m),cmap\u001b[38;5;241m=\u001b[39m\u001b[38;5;124m'\u001b[39m\u001b[38;5;124mgray\u001b[39m\u001b[38;5;124m'\u001b[39m)\n\u001b[1;32m      5\u001b[0m plt\u001b[38;5;241m.\u001b[39mtitle(\u001b[38;5;124m\"\u001b[39m\u001b[38;5;124mGRAPPA\u001b[39m\u001b[38;5;124m\"\u001b[39m)\n\u001b[1;32m      6\u001b[0m plt\u001b[38;5;241m.\u001b[39msubplot(\u001b[38;5;241m122\u001b[39m)\n",
      "File \u001b[0;32m~/Desktop/pymri_recon/grappa/../util/coil.py:6\u001b[0m, in \u001b[0;36mrsos\u001b[0;34m(images, coilaxis)\u001b[0m\n\u001b[1;32m      5\u001b[0m \u001b[38;5;28;01mdef\u001b[39;00m \u001b[38;5;21mrsos\u001b[39m(images,coilaxis \u001b[38;5;241m=\u001b[39m \u001b[38;5;241m2\u001b[39m):\n\u001b[0;32m----> 6\u001b[0m     \u001b[38;5;28;01mreturn\u001b[39;00m np\u001b[38;5;241m.\u001b[39msqrt(np\u001b[38;5;241m.\u001b[39msum(np\u001b[38;5;241m.\u001b[39msquare(\u001b[43mnp\u001b[49m\u001b[38;5;241;43m.\u001b[39;49m\u001b[43mabs\u001b[49m\u001b[43m(\u001b[49m\u001b[43mimages\u001b[49m\u001b[43m)\u001b[49m),axis \u001b[38;5;241m=\u001b[39m coilaxis))\n",
      "\u001b[0;31mTypeError\u001b[0m: bad operand type for abs(): 'NoneType'"
     ]
    },
    {
     "data": {
      "image/png": "[encoded data removed]",
      "text/plain": [
       "<Figure size 1280x960 with 1 Axes>"
      ]
     },
     "metadata": {
      "needs_background": "light"
     },
     "output_type": "display_data"
    }
   ],
   "source": [
    "plt.figure(figsize=(16, 12), dpi=80)\n",
    "plt.subplot(121)\n",
    "plt.axis('off')\n",
    "plt.imshow(np.abs(rsos(recon2)),cmap='gray')\n",
    "plt.title(\"GRAPPA\")\n",
    "plt.subplot(122)\n",
    "plt.axis('off')\n",
    "plt.imshow(np.abs(rsos(recon)),cmap='gray')\n",
    "plt.title(\"vcGRAPPA\")\n",
    "plt.savefig(\"vcgrappa.png\")\n",
    "plt.show()"
   ]
  },
  {
   "cell_type": "code",
   "execution_count": null,
   "id": "14228561-74b8-4d1f-b248-b387607b9389",
   "metadata": {},
   "outputs": [],
   "source": []
  }
 ],
 "metadata": {
  "kernelspec": {
   "display_name": "Python 3 (ipykernel)",
   "language": "python",
   "name": "python3"
  },
  "language_info": {
   "codemirror_mode": {
    "name": "ipython",
    "version": 3
   },
   "file_extension": ".py",
   "mimetype": "text/x-python",
   "name": "python",
   "nbconvert_exporter": "python",
   "pygments_lexer": "ipython3",
   "version": "3.9.12"
  },
  "toc": {
   "base_numbering": 1,
   "nav_menu": {},
   "number_sections": true,
   "sideBar": true,
   "skip_h1_title": false,
   "title_cell": "Table of Contents",
   "title_sidebar": "Contents",
   "toc_cell": false,
   "toc_position": {},
   "toc_section_display": true,
   "toc_window_display": false
  },
  "varInspector": {
   "cols": {
    "lenName": 16,
    "lenType": 16,
    "lenVar": 40
   },
   "kernels_config": {
    "python": {
     "delete_cmd_postfix": "",
     "delete_cmd_prefix": "del ",
     "library": "var_list.py",
     "varRefreshCmd": "print(var_dic_list())"
    },
    "r": {
     "delete_cmd_postfix": ") ",
     "delete_cmd_prefix": "rm(",
     "library": "var_list.r",
     "varRefreshCmd": "cat(var_dic_list()) "
    }
   },
   "types_to_exclude": [
    "module",
    "function",
    "builtin_function_or_method",
    "instance",
    "_Feature"
   ],
   "window_display": false
  }
 },
 "nbformat": 4,
 "nbformat_minor": 5
}
